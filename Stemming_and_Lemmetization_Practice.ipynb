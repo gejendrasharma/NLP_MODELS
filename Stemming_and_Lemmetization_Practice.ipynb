{
  "nbformat": 4,
  "nbformat_minor": 0,
  "metadata": {
    "colab": {
      "provenance": [],
      "gpuType": "T4"
    },
    "kernelspec": {
      "name": "python3",
      "display_name": "Python 3"
    },
    "language_info": {
      "name": "python"
    },
    "accelerator": "GPU"
  },
  "cells": [
    {
      "cell_type": "code",
      "source": [
        "import nltk\n",
        "import spacy\n",
        "from nltk.stem import PorterStemmer,SnowballStemmer\n",
        "from nltk.stem import WordNetLemmatizer\n",
        "from nltk.corpus import wordnet\n",
        "\n",
        "\n",
        "nltk.download('punkt_tab')\n",
        "nltk.download('wordnet')\n",
        "nltk.download('omw-1.4')\n",
        "\n",
        "\n",
        "Porter=PorterStemmer()\n",
        "Snowball=SnowballStemmer(language='english')\n",
        "WordNet=WordNetLemmatizer()\n",
        "nlp=spacy.load('en_core_web_sm')\n",
        "\n",
        "corpus = {\n",
        "    \"news\": \"The economic downturn is affecting global markets. Investors are reconsidering their portfolios.\",\n",
        "    \"wikipedia\": \"The mitochondrion is often referred to as the powerhouse of the cell.\",\n",
        "    \"science_paper\": \"In recent studies, convolutional neural networks have demonstrated state-of-the-art performance in image classification tasks.\"\n",
        "}\n",
        "\n",
        "tokenized_corpus={key:nltk.word_tokenize(value) for key,value in corpus.items()}"
      ],
      "metadata": {
        "colab": {
          "base_uri": "https://localhost:8080/"
        },
        "id": "ifNxWZnjwbuu",
        "outputId": "46258d8a-18e2-413b-a859-31b3908ffffe"
      },
      "execution_count": null,
      "outputs": [
        {
          "output_type": "stream",
          "name": "stderr",
          "text": [
            "[nltk_data] Downloading package punkt_tab to /root/nltk_data...\n",
            "[nltk_data]   Unzipping tokenizers/punkt_tab.zip.\n",
            "[nltk_data] Downloading package wordnet to /root/nltk_data...\n",
            "[nltk_data]   Package wordnet is already up-to-date!\n",
            "[nltk_data] Downloading package omw-1.4 to /root/nltk_data...\n",
            "[nltk_data]   Package omw-1.4 is already up-to-date!\n"
          ]
        }
      ]
    },
    {
      "cell_type": "code",
      "source": [
        "#Stemming\n",
        "def apply_stemming(token_text,stemmer):\n",
        "  return [stemmer.stem(word) for word in token_text]\n",
        "\n",
        "for domain,token in tokenized_corpus.items():\n",
        "  print(f\"** {domain.upper()} DOMAIN**\")\n",
        "  print(\"\\n\")\n",
        "  print(\"porter stemmin\",apply_stemming(token,Porter))\n",
        "  print(\"snowball stemmin\",apply_stemming(token,Snowball))\n",
        "  print(\"\\n\")\n",
        "\n",
        "#corpus = {\n",
        "   # \"news\": \"The economic downturn is affecting global markets. Investors are reconsidering their portfolios.\",\n",
        "   # \"wikipedia\": \"The mitochondrion is often referred to as the powerhouse of the cell.\",\n",
        "    #\"science_paper\": \"In recent studies, convolutional neural networks have demonstrated state-of-the-art performance in image classification tasks.\"\n",
        "#}"
      ],
      "metadata": {
        "colab": {
          "base_uri": "https://localhost:8080/"
        },
        "id": "lw1q39KIx_KA",
        "outputId": "08fb21f8-0205-4658-f68f-a11433ca99e9"
      },
      "execution_count": null,
      "outputs": [
        {
          "output_type": "stream",
          "name": "stdout",
          "text": [
            "** NEWS DOMAIN**\n",
            "\n",
            "\n",
            "porter stemmin ['the', 'econom', 'downturn', 'is', 'affect', 'global', 'market', '.', 'investor', 'are', 'reconsid', 'their', 'portfolio', '.']\n",
            "snowball stemmin ['the', 'econom', 'downturn', 'is', 'affect', 'global', 'market', '.', 'investor', 'are', 'reconsid', 'their', 'portfolio', '.']\n",
            "\n",
            "\n",
            "** WIKIPEDIA DOMAIN**\n",
            "\n",
            "\n",
            "porter stemmin ['the', 'mitochondrion', 'is', 'often', 'refer', 'to', 'as', 'the', 'powerhous', 'of', 'the', 'cell', '.']\n",
            "snowball stemmin ['the', 'mitochondrion', 'is', 'often', 'refer', 'to', 'as', 'the', 'powerhous', 'of', 'the', 'cell', '.']\n",
            "\n",
            "\n",
            "** SCIENCE_PAPER DOMAIN**\n",
            "\n",
            "\n",
            "porter stemmin ['in', 'recent', 'studi', ',', 'convolut', 'neural', 'network', 'have', 'demonstr', 'state-of-the-art', 'perform', 'in', 'imag', 'classif', 'task', '.']\n",
            "snowball stemmin ['in', 'recent', 'studi', ',', 'convolut', 'neural', 'network', 'have', 'demonstr', 'state-of-the-art', 'perform', 'in', 'imag', 'classif', 'task', '.']\n",
            "\n",
            "\n"
          ]
        }
      ]
    },
    {
      "cell_type": "code",
      "source": [
        "#Lemmetizing\n",
        "def apply_lemmetizer(token_text,lemmatizer,pos=wordnet.VERB):\n",
        "  return [lemmatizer.lemmatize(word,pos) for word in token_text]\n",
        "\n",
        "for domain,token in tokenized_corpus.items():\n",
        "  print(f\"** {domain.upper()} DOMAIN**\")\n",
        "  print(\"\\n\")\n",
        "  print(\"wordnet lemmatizer\",apply_lemmetizer(token,WordNet))\n",
        "  print(\"\\n\")\n"
      ],
      "metadata": {
        "colab": {
          "base_uri": "https://localhost:8080/"
        },
        "id": "KngmCTGgzH-f",
        "outputId": "82e7c7bd-f231-49a9-81c3-53deac0bc813"
      },
      "execution_count": null,
      "outputs": [
        {
          "output_type": "stream",
          "name": "stdout",
          "text": [
            "** NEWS DOMAIN**\n",
            "\n",
            "\n",
            "wordnet lemmatizer ['The', 'economic', 'downturn', 'be', 'affect', 'global', 'market', '.', 'Investors', 'be', 'reconsider', 'their', 'portfolios', '.']\n",
            "\n",
            "\n",
            "** WIKIPEDIA DOMAIN**\n",
            "\n",
            "\n",
            "wordnet lemmatizer ['The', 'mitochondrion', 'be', 'often', 'refer', 'to', 'as', 'the', 'powerhouse', 'of', 'the', 'cell', '.']\n",
            "\n",
            "\n",
            "** SCIENCE_PAPER DOMAIN**\n",
            "\n",
            "\n",
            "wordnet lemmatizer ['In', 'recent', 'study', ',', 'convolutional', 'neural', 'network', 'have', 'demonstrate', 'state-of-the-art', 'performance', 'in', 'image', 'classification', 'task', '.']\n",
            "\n",
            "\n"
          ]
        }
      ]
    },
    {
      "cell_type": "code",
      "source": [
        "#Lemmetizer usin spacy\n",
        "\n",
        "def spacy_lemma(text):\n",
        "  doc=nlp(text)\n",
        "  return [token.lemma_ for token in doc]\n",
        "\n",
        "for domain,text in corpus.items():\n",
        "  print(f\"** {domain.upper()} Domain**\")\n",
        "  print(\"\\n\")\n",
        "  print(\"Spacy Lemmetizer\",spacy_lemma(text))\n",
        "  print(\"\\n\")"
      ],
      "metadata": {
        "colab": {
          "base_uri": "https://localhost:8080/"
        },
        "id": "MedzTfuEzsBn",
        "outputId": "5ea9015d-4a11-4f04-d70c-9e304136afff"
      },
      "execution_count": null,
      "outputs": [
        {
          "output_type": "stream",
          "name": "stdout",
          "text": [
            "** NEWS Domain**\n",
            "\n",
            "\n",
            "Spacy Lemmetizer ['the', 'economic', 'downturn', 'be', 'affect', 'global', 'market', '.', 'investor', 'be', 'reconsider', 'their', 'portfolio', '.']\n",
            "\n",
            "\n",
            "** WIKIPEDIA Domain**\n",
            "\n",
            "\n",
            "Spacy Lemmetizer ['the', 'mitochondrion', 'be', 'often', 'refer', 'to', 'as', 'the', 'powerhouse', 'of', 'the', 'cell', '.']\n",
            "\n",
            "\n",
            "** SCIENCE_PAPER Domain**\n",
            "\n",
            "\n",
            "Spacy Lemmetizer ['in', 'recent', 'study', ',', 'convolutional', 'neural', 'network', 'have', 'demonstrate', 'state', '-', 'of', '-', 'the', '-', 'art', 'performance', 'in', 'image', 'classification', 'task', '.']\n",
            "\n",
            "\n"
          ]
        }
      ]
    },
    {
      "cell_type": "code",
      "source": [
        "import nltk\n",
        "from nltk.tokenize import word_tokenize\n",
        "from nltk.stem import WordNetLemmatizer\n",
        "\n",
        "\n",
        "nltk.download('punkt')\n",
        "nltk.download('wordnet')\n",
        "\n",
        "lemmatizer=WordNetLemmatizer()\n",
        "\n",
        "\n",
        "GEN_Z_DICT = {\n",
        "    \"money\": \"bread\", \"work\": \"grind\", \"friend\": \"bestie\", \"tired\": \"exhausted af\",\n",
        "    \"smart\": \"big-brain\", \"cool\": \"vibe check passed\", \"boring\": \"mid\",\n",
        "    \"excited\": \"hyped\", \"love\": \"obsessed\", \"understand\": \"get it, bestie\",\n",
        "    \"bad\": \"sus\", \"good\": \"fire\", \"funny\": \"lowkey hilarious\", \"amazing\": \"goated\",\n",
        "}\n",
        "\n",
        "BOOMER_DICT = {\n",
        "    \"money\": \"hard-earned cash\", \"work\": \"a 9-to-5 job\", \"friend\": \"pal\", \"tired\": \"worn out\",\n",
        "    \"smart\": \"book smart\", \"cool\": \"neat\", \"boring\": \"dull\",\n",
        "    \"excited\": \"thrilled\", \"love\": \"truly admire\", \"understand\": \"comprehend\",\n",
        "    \"bad\": \"not up to the mark\", \"good\": \"decent\", \"funny\": \"a real hoot\", \"amazing\": \"astonishing\",\n",
        "}\n",
        "\n",
        "CORPORATE_DICT = {\n",
        "    \"money\": \"capital\", \"work\": \"workflow optimization\", \"friend\": \"stakeholder\", \"tired\": \"resource depletion\",\n",
        "    \"smart\": \"data-driven\", \"cool\": \"innovative\", \"boring\": \"low engagement\",\n",
        "    \"excited\": \"strategically motivated\", \"love\": \"synergize with\", \"understand\": \"leverage insights\",\n",
        "    \"bad\": \"off-track\", \"good\": \"best-in-class\", \"funny\": \"engagement-boosting\", \"amazing\": \"disruptive\",\n",
        "}\n",
        "\n",
        "def translate_mode(text,dictionary):\n",
        "  \"\"\"convert text into GEN_Z form\"\"\"\n",
        "  words=word_tokenize(text.lower())\n",
        "  return \" \".join([dictionary.get(w,w) for w in words])\n",
        "\n",
        "def translate():\n",
        "  text=input(\"\\n enter text\")\n",
        "  print(f\"\\n normal text :{text}\")\n",
        "  print(\"**GEN_Z mode**\",translate_mode(text,GEN_Z_DICT))\n",
        "  print(\"**BOOMER mode**\",translate_mode(text,BOOMER_DICT))\n",
        "  print(\"**CORPARATE mode**\",translate_mode(text,CORPORATE_DICT))\n",
        "\n",
        "translate()\n"
      ],
      "metadata": {
        "colab": {
          "base_uri": "https://localhost:8080/"
        },
        "id": "2JvXQnFx1MRJ",
        "outputId": "52b2145a-0d96-4cae-cd58-b9d912a51c90"
      },
      "execution_count": null,
      "outputs": [
        {
          "output_type": "stream",
          "name": "stderr",
          "text": [
            "[nltk_data] Downloading package punkt to /root/nltk_data...\n",
            "[nltk_data]   Package punkt is already up-to-date!\n",
            "[nltk_data] Downloading package wordnet to /root/nltk_data...\n",
            "[nltk_data]   Package wordnet is already up-to-date!\n"
          ]
        },
        {
          "output_type": "stream",
          "name": "stdout",
          "text": [
            "\n",
            " enter textI love my cat, but she is not cool and smart\n",
            "\n",
            " normal text :I love my cat, but she is not cool and smart\n",
            "**GEN_Z mode** i obsessed my cat , but she is not vibe check passed and big-brain\n",
            "**BOOMER mode** i truly admire my cat , but she is not neat and book smart\n",
            "**CORPARATE mode** i synergize with my cat , but she is not innovative and data-driven\n"
          ]
        }
      ]
    },
    {
      "cell_type": "code",
      "source": [],
      "metadata": {
        "id": "6lH-YiLs8Az1"
      },
      "execution_count": null,
      "outputs": []
    }
  ]
}